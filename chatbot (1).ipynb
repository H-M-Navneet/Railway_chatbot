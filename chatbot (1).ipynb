{
 "cells": [
  {
   "cell_type": "code",
   "execution_count": 89,
   "id": "9a3ac823",
   "metadata": {},
   "outputs": [
    {
     "name": "stdout",
     "output_type": "stream",
     "text": [
      "Requirement already satisfied: pinecone-client in c:\\users\\navya\\anaconda3\\lib\\site-packages (2.2.4)\n",
      "Requirement already satisfied: requests>=2.19.0 in c:\\users\\navya\\anaconda3\\lib\\site-packages (from pinecone-client) (2.31.0)\n",
      "Requirement already satisfied: pyyaml>=5.4 in c:\\users\\navya\\anaconda3\\lib\\site-packages (from pinecone-client) (6.0)\n",
      "Requirement already satisfied: loguru>=0.5.0 in c:\\users\\navya\\anaconda3\\lib\\site-packages (from pinecone-client) (0.7.2)\n",
      "Requirement already satisfied: typing-extensions>=3.7.4 in c:\\users\\navya\\anaconda3\\lib\\site-packages (from pinecone-client) (4.5.0)\n",
      "Requirement already satisfied: dnspython>=2.0.0 in c:\\users\\navya\\anaconda3\\lib\\site-packages (from pinecone-client) (2.4.2)\n",
      "Requirement already satisfied: python-dateutil>=2.5.3 in c:\\users\\navya\\anaconda3\\lib\\site-packages (from pinecone-client) (2.8.2)\n",
      "Requirement already satisfied: urllib3>=1.21.1 in c:\\users\\navya\\anaconda3\\lib\\site-packages (from pinecone-client) (1.26.16)\n",
      "Requirement already satisfied: tqdm>=4.64.1 in c:\\users\\navya\\anaconda3\\lib\\site-packages (from pinecone-client) (4.65.0)\n",
      "Requirement already satisfied: numpy>=1.22.0 in c:\\users\\navya\\anaconda3\\lib\\site-packages (from pinecone-client) (1.24.3)\n",
      "Requirement already satisfied: colorama>=0.3.4 in c:\\users\\navya\\anaconda3\\lib\\site-packages (from loguru>=0.5.0->pinecone-client) (0.4.6)\n",
      "Requirement already satisfied: win32-setctime>=1.0.0 in c:\\users\\navya\\anaconda3\\lib\\site-packages (from loguru>=0.5.0->pinecone-client) (1.1.0)\n",
      "Requirement already satisfied: six>=1.5 in c:\\users\\navya\\anaconda3\\lib\\site-packages (from python-dateutil>=2.5.3->pinecone-client) (1.16.0)\n",
      "Requirement already satisfied: charset-normalizer<4,>=2 in c:\\users\\navya\\anaconda3\\lib\\site-packages (from requests>=2.19.0->pinecone-client) (2.0.4)\n",
      "Requirement already satisfied: idna<4,>=2.5 in c:\\users\\navya\\anaconda3\\lib\\site-packages (from requests>=2.19.0->pinecone-client) (3.4)\n",
      "Requirement already satisfied: certifi>=2017.4.17 in c:\\users\\navya\\anaconda3\\lib\\site-packages (from requests>=2.19.0->pinecone-client) (2023.7.22)\n",
      "Note: you may need to restart the kernel to use updated packages.\n"
     ]
    }
   ],
   "source": [
    "pip install pinecone-client"
   ]
  },
  {
   "cell_type": "code",
   "execution_count": 90,
   "id": "a3f2d462",
   "metadata": {},
   "outputs": [],
   "source": [
    "  !pip install -qU \\\n",
    "  transformers==4.31.0 \\\n",
    "  sentence-transformers==2.2.2 \\\n",
    "  datasets==2.14.0 \\\n",
    "  accelerate==0.21.0 \\\n",
    "  einops==0.6.1 \\\n",
    "  langchain==0.0.240 \\\n",
    "  xformers==0.0.20 \\\n",
    "  bitsandbytes==0.41.0\\\n",
    "  InstructorEmbedding"
   ]
  },
  {
   "cell_type": "code",
   "execution_count": 91,
   "id": "d60a7089",
   "metadata": {},
   "outputs": [
    {
     "name": "stdout",
     "output_type": "stream",
     "text": [
      "Requirement already satisfied: python-dotenv in c:\\users\\navya\\anaconda3\\lib\\site-packages (1.0.0)\n",
      "Note: you may need to restart the kernel to use updated packages.\n"
     ]
    }
   ],
   "source": [
    "pip install python-dotenv"
   ]
  },
  {
   "cell_type": "code",
   "execution_count": 92,
   "id": "5d56a591",
   "metadata": {},
   "outputs": [
    {
     "name": "stdout",
     "output_type": "stream",
     "text": [
      "Requirement already satisfied: mysql-connector-python in c:\\users\\navya\\appdata\\roaming\\python\\python311\\site-packages (8.1.0)\n",
      "Requirement already satisfied: protobuf<=4.21.12,>=4.21.1 in c:\\users\\navya\\anaconda3\\lib\\site-packages (from mysql-connector-python) (4.21.12)\n"
     ]
    }
   ],
   "source": [
    "!pip install --user mysql-connector-python"
   ]
  },
  {
   "cell_type": "code",
   "execution_count": 93,
   "id": "ba312b1e",
   "metadata": {},
   "outputs": [
    {
     "name": "stdout",
     "output_type": "stream",
     "text": [
      "Requirement already satisfied: ctransformers in c:\\users\\navya\\anaconda3\\lib\\site-packages (0.2.27)\n",
      "Requirement already satisfied: huggingface-hub in c:\\users\\navya\\anaconda3\\lib\\site-packages (from ctransformers) (0.17.1)\n",
      "Requirement already satisfied: py-cpuinfo<10.0.0,>=9.0.0 in c:\\users\\navya\\anaconda3\\lib\\site-packages (from ctransformers) (9.0.0)\n",
      "Requirement already satisfied: filelock in c:\\users\\navya\\appdata\\roaming\\python\\python311\\site-packages (from huggingface-hub->ctransformers) (3.12.0)\n",
      "Requirement already satisfied: fsspec in c:\\users\\navya\\anaconda3\\lib\\site-packages (from huggingface-hub->ctransformers) (2023.3.0)\n",
      "Requirement already satisfied: requests in c:\\users\\navya\\anaconda3\\lib\\site-packages (from huggingface-hub->ctransformers) (2.31.0)\n",
      "Requirement already satisfied: tqdm>=4.42.1 in c:\\users\\navya\\anaconda3\\lib\\site-packages (from huggingface-hub->ctransformers) (4.65.0)\n",
      "Requirement already satisfied: pyyaml>=5.1 in c:\\users\\navya\\anaconda3\\lib\\site-packages (from huggingface-hub->ctransformers) (6.0)\n",
      "Requirement already satisfied: typing-extensions>=3.7.4.3 in c:\\users\\navya\\anaconda3\\lib\\site-packages (from huggingface-hub->ctransformers) (4.5.0)\n",
      "Requirement already satisfied: packaging>=20.9 in c:\\users\\navya\\anaconda3\\lib\\site-packages (from huggingface-hub->ctransformers) (23.0)\n",
      "Requirement already satisfied: colorama in c:\\users\\navya\\anaconda3\\lib\\site-packages (from tqdm>=4.42.1->huggingface-hub->ctransformers) (0.4.6)\n",
      "Requirement already satisfied: charset-normalizer<4,>=2 in c:\\users\\navya\\anaconda3\\lib\\site-packages (from requests->huggingface-hub->ctransformers) (2.0.4)\n",
      "Requirement already satisfied: idna<4,>=2.5 in c:\\users\\navya\\anaconda3\\lib\\site-packages (from requests->huggingface-hub->ctransformers) (3.4)\n",
      "Requirement already satisfied: urllib3<3,>=1.21.1 in c:\\users\\navya\\anaconda3\\lib\\site-packages (from requests->huggingface-hub->ctransformers) (1.26.16)\n",
      "Requirement already satisfied: certifi>=2017.4.17 in c:\\users\\navya\\anaconda3\\lib\\site-packages (from requests->huggingface-hub->ctransformers) (2023.7.22)\n",
      "Note: you may need to restart the kernel to use updated packages.\n"
     ]
    }
   ],
   "source": [
    "pip install ctransformers"
   ]
  },
  {
   "cell_type": "code",
   "execution_count": 1,
   "id": "057c86ae",
   "metadata": {},
   "outputs": [
    {
     "name": "stderr",
     "output_type": "stream",
     "text": [
      "C:\\Users\\navne\\AppData\\Roaming\\Python\\Python310\\site-packages\\pinecone\\index.py:4: TqdmExperimentalWarning: Using `tqdm.autonotebook.tqdm` in notebook mode. Use `tqdm.tqdm` instead to force console mode (e.g. in jupyter console)\n",
      "  from tqdm.autonotebook import tqdm\n"
     ]
    }
   ],
   "source": [
    "from langchain import PromptTemplate\n",
    "from langchain.chains import RetrievalQA\n",
    "from langchain.embeddings import HuggingFaceEmbeddings\n",
    "from langchain.vectorstores import Pinecone\n",
    "import pinecone\n",
    "from langchain.document_loaders import PyPDFLoader, DirectoryLoader\n",
    "from langchain.text_splitter import RecursiveCharacterTextSplitter\n",
    "from langchain.prompts import PromptTemplate\n",
    "from langchain.llms import CTransformers\n",
    "from langchain.chat_models import ChatOpenAI\n",
    "from transformers import AutoTokenizer\n",
    "from dotenv import load_dotenv\n",
    "import os\n",
    "import timeit\n",
    "import sys\n",
    "#import mysql.connector"
   ]
  },
  {
   "cell_type": "code",
   "execution_count": 2,
   "id": "d3f9e5e2",
   "metadata": {},
   "outputs": [],
   "source": [
    "load_dotenv()\n",
    "PINECONE_API_KEY=os.environ.get('PINECONE_API_KEY','1acea4e0-c639-4577-b431-6d607796e5d5')\n",
    "PINECONE_API_ENV=os.environ.get('PINECONE_API_ENV', 'gcp-starter')"
   ]
  },
  {
   "cell_type": "code",
   "execution_count": 82,
   "id": "5c500e58",
   "metadata": {},
   "outputs": [
    {
     "ename": "NameError",
     "evalue": "name 'mysql' is not defined",
     "output_type": "error",
     "traceback": [
      "\u001b[1;31m---------------------------------------------------------------------------\u001b[0m",
      "\u001b[1;31mNameError\u001b[0m                                 Traceback (most recent call last)",
      "\u001b[1;32mc:\\Users\\navne\\OneDrive\\Desktop\\Hackathon\\SIH 2023\\chatbot (1).ipynb Cell 8\u001b[0m line \u001b[0;36m1\n\u001b[1;32m----> <a href='vscode-notebook-cell:/c%3A/Users/navne/OneDrive/Desktop/Hackathon/SIH%202023/chatbot%20%281%29.ipynb#X10sZmlsZQ%3D%3D?line=0'>1</a>\u001b[0m mysql_connection \u001b[39m=\u001b[39m mysql\u001b[39m.\u001b[39mconnector\u001b[39m.\u001b[39mconnect(\n\u001b[0;32m      <a href='vscode-notebook-cell:/c%3A/Users/navne/OneDrive/Desktop/Hackathon/SIH%202023/chatbot%20%281%29.ipynb#X10sZmlsZQ%3D%3D?line=1'>2</a>\u001b[0m     host\u001b[39m=\u001b[39m\u001b[39m\"\u001b[39m\u001b[39mlocalhost\u001b[39m\u001b[39m\"\u001b[39m,\n\u001b[0;32m      <a href='vscode-notebook-cell:/c%3A/Users/navne/OneDrive/Desktop/Hackathon/SIH%202023/chatbot%20%281%29.ipynb#X10sZmlsZQ%3D%3D?line=2'>3</a>\u001b[0m     user\u001b[39m=\u001b[39m\u001b[39m\"\u001b[39m\u001b[39mroot\u001b[39m\u001b[39m\"\u001b[39m,\n\u001b[0;32m      <a href='vscode-notebook-cell:/c%3A/Users/navne/OneDrive/Desktop/Hackathon/SIH%202023/chatbot%20%281%29.ipynb#X10sZmlsZQ%3D%3D?line=3'>4</a>\u001b[0m     password\u001b[39m=\u001b[39m\u001b[39m\"\u001b[39m\u001b[39mN090603\u001b[39m\u001b[39m\"\u001b[39m,\n\u001b[0;32m      <a href='vscode-notebook-cell:/c%3A/Users/navne/OneDrive/Desktop/Hackathon/SIH%202023/chatbot%20%281%29.ipynb#X10sZmlsZQ%3D%3D?line=4'>5</a>\u001b[0m     database\u001b[39m=\u001b[39m\u001b[39m\"\u001b[39m\u001b[39mrailway\u001b[39m\u001b[39m\"\u001b[39m  \u001b[39m# Change this to your database name\u001b[39;00m\n\u001b[0;32m      <a href='vscode-notebook-cell:/c%3A/Users/navne/OneDrive/Desktop/Hackathon/SIH%202023/chatbot%20%281%29.ipynb#X10sZmlsZQ%3D%3D?line=5'>6</a>\u001b[0m )\n",
      "\u001b[1;31mNameError\u001b[0m: name 'mysql' is not defined"
     ]
    }
   ],
   "source": [
    "mysql_connection = mysql.connector.connect(\n",
    "    host=\"localhost\",\n",
    "    user=\"root\",\n",
    "    password=\"N090603\",\n",
    "    database=\"railway\"  # Change this to your database name\n",
    ")"
   ]
  },
  {
   "cell_type": "code",
   "execution_count": 97,
   "id": "b3c9ee18",
   "metadata": {},
   "outputs": [],
   "source": [
    "mysql_cursor = mysql_connection.cursor()"
   ]
  },
  {
   "cell_type": "code",
   "execution_count": 98,
   "id": "2079ec2a",
   "metadata": {},
   "outputs": [],
   "source": [
    "mysql_query = \"SELECT * FROM rschedule\" "
   ]
  },
  {
   "cell_type": "code",
   "execution_count": 99,
   "id": "33bd13ee",
   "metadata": {},
   "outputs": [],
   "source": [
    "mysql_cursor.execute(mysql_query)"
   ]
  },
  {
   "cell_type": "code",
   "execution_count": 100,
   "id": "2b57669b",
   "metadata": {},
   "outputs": [],
   "source": [
    "rows = mysql_cursor.fetchall()"
   ]
  },
  {
   "cell_type": "code",
   "execution_count": 101,
   "id": "5df8af71",
   "metadata": {},
   "outputs": [],
   "source": [
    "mysql_cursor.close()\n",
    "mysql_connection.close()"
   ]
  },
  {
   "cell_type": "code",
   "execution_count": 102,
   "id": "81f5199b",
   "metadata": {},
   "outputs": [],
   "source": [
    "file_path = 'railway_schedule.txt'\n",
    "\n",
    "# Open the file for writing (create it if it doesn't exist)\n",
    "with open(file_path, 'w') as file:\n",
    "    # Iterate through the rows of data and write each row as text\n",
    "    for row in rows:\n",
    "        # Convert the row to a string (adjust the formatting as needed)\n",
    "        row_text = f\"Train No: {row[0]}, Train Name: {row[1]}, SEQ: {row[2]}, Station Code: {row[3]}, Station Name: {row[4]}, Arrival Time: {row[5]},Departure Time: {row[6]},Distance: {row[7]},Source Station: {row[8]},Source Station Name: {row[9]},Destination Station: {row[10]},Destination Station Name: {row[11]}\"\n",
    "\n",
    "        # Write the row to the file\n",
    "        file.write(row_text)\n",
    "\n",
    "# Close the file\n",
    "file.close()"
   ]
  },
  {
   "cell_type": "code",
   "execution_count": 103,
   "id": "bb360a86",
   "metadata": {},
   "outputs": [],
   "source": [
    "documents = []\n",
    "\n",
    "# Open the file for reading\n",
    "with open(file_path, 'r') as file:\n",
    "    # Read each line (document) from the file\n",
    "    for line in file:\n",
    "        # Append the line (document) to the list of documents, removing leading/trailing whitespace\n",
    "        documents.append(line.strip())"
   ]
  },
  {
   "cell_type": "code",
   "execution_count": 104,
   "id": "0538afa6",
   "metadata": {},
   "outputs": [],
   "source": [
    "input_text = \"\\n\".join(documents)\n",
    "tokenizer = AutoTokenizer.from_pretrained(\"sentence-transformers/all-MiniLM-L6-v2\")\n",
    "tokenized_text = tokenizer(input_text, return_tensors=\"pt\", truncation=True, max_length=512, padding=\"max_length\")\n",
    "input_ids = tokenized_text[\"input_ids\"]\n",
    "input_text = tokenizer.decode(input_ids[0])"
   ]
  },
  {
   "cell_type": "code",
   "execution_count": 105,
   "id": "a571762b",
   "metadata": {},
   "outputs": [],
   "source": [
    "# Assuming 'documents' is a list of strings from the text file\n",
    "\n",
    "# Initialize a list to store the split documents\n",
    "split_docs = []\n",
    "\n",
    "# Initialize the text splitter\n",
    "text_splitter = RecursiveCharacterTextSplitter(chunk_size=500, chunk_overlap=20)\n",
    "\n",
    "# Split each line/document into smaller chunks\n",
    "for document in documents:\n",
    "    split_chunks = text_splitter.split_text(input_text)\n",
    "    split_docs.extend(split_chunks)\n",
    "\n",
    "# Now, 'split_docs' contains the smaller text chunks\n"
   ]
  },
  {
   "cell_type": "code",
   "execution_count": 3,
   "id": "1dcb92db",
   "metadata": {},
   "outputs": [
    {
     "name": "stderr",
     "output_type": "stream",
     "text": [
      "C:\\Users\\navne\\AppData\\Roaming\\Python\\Python310\\site-packages\\bitsandbytes\\cextension.py:34: UserWarning: The installed version of bitsandbytes was compiled without GPU support. 8-bit optimizers, 8-bit multiplication, and GPU quantization are unavailable.\n",
      "  warn(\"The installed version of bitsandbytes was compiled without GPU support. \"\n"
     ]
    },
    {
     "name": "stdout",
     "output_type": "stream",
     "text": [
      "'NoneType' object has no attribute 'cadam32bit_grad_fp32'\n"
     ]
    }
   ],
   "source": [
    "embeddings=HuggingFaceEmbeddings(model_name='sentence-transformers/all-MiniLM-L6-v2')"
   ]
  },
  {
   "cell_type": "code",
   "execution_count": 4,
   "id": "c085206c",
   "metadata": {},
   "outputs": [],
   "source": [
    "pinecone.init(api_key=PINECONE_API_KEY,\n",
    "              environment=PINECONE_API_ENV)\n",
    "\n",
    "index_name=\"railway-chatbot\""
   ]
  },
  {
   "cell_type": "code",
   "execution_count": 5,
   "id": "ad536aa3",
   "metadata": {},
   "outputs": [],
   "source": [
    "#docsearch = Pinecone.from_texts(split_docs, embeddings, index_name=index_name)\n",
    "docsearch=Pinecone.from_existing_index(index_name, embeddings)"
   ]
  },
  {
   "cell_type": "code",
   "execution_count": 6,
   "id": "4c7e41f0",
   "metadata": {},
   "outputs": [],
   "source": [
    "prompt_template=\"\"\"\n",
    "Use the following pieces of information to answer the user's question.\n",
    "If you don't know the answer, just say that I don't know, don't try to make up an answer.\n",
    "\n",
    "Context: {context}\n",
    "Question: {question}\n",
    "\n",
    "Only return the helpful answer below and nothing else.\n",
    "Helpful answer:\n",
    "\"\"\"\n",
    "\n",
    "PROMPT=PromptTemplate(template=prompt_template, input_variables=[\"context\", \"question\"])"
   ]
  },
  {
   "cell_type": "code",
   "execution_count": 7,
   "id": "6df7fc0c",
   "metadata": {
    "scrolled": false
   },
   "outputs": [],
   "source": [
    "chain_type_kwargs={\"prompt\": PROMPT}\n",
    "\n",
    "llm=CTransformers(model=\"llama-2-7b-chat.ggmlv3.q4_0.bin\",\n",
    "                  model_type=\"llama\",\n",
    "                  config={'max_new_tokens':512,\n",
    "                          'temperature':0.8})"
   ]
  },
  {
   "cell_type": "code",
   "execution_count": 8,
   "id": "939a822f",
   "metadata": {},
   "outputs": [],
   "source": [
    "qa=RetrievalQA.from_chain_type(llm=llm, chain_type=\"stuff\", retriever=docsearch.as_retriever(search_kwargs={'k': 1}),return_source_documents=True, chain_type_kwargs=chain_type_kwargs)"
   ]
  },
  {
   "cell_type": "code",
   "execution_count": 10,
   "id": "0b69c7c9",
   "metadata": {},
   "outputs": [
    {
     "name": "stdout",
     "output_type": "stream",
     "text": [
      "Listening...\n",
      "Processing...\n",
      "you said: ಟ್ರೈನ್ ನಂಬರ್ 128 ಯಾವಾಗ ಬರುತ್ತದೆ\n"
     ]
    }
   ],
   "source": [
    "#ASR\n",
    "import speech_recognition as sr\n",
    "\n",
    "import sys\n",
    "\n",
    "#sys.stdin.reconfigure(encoding='utf-8')\n",
    "#sys.stdout.reconfigure(encoding='utf-8')\n",
    "\n",
    "# Initialize the recognizer\n",
    "recognizer = sr.Recognizer()\n",
    "\n",
    "# Use a microphone as the audio source\n",
    "with sr.Microphone() as source:\n",
    "    print(\"Listening...\")\n",
    "    \n",
    "    # Adjust for ambient noise\n",
    "    recognizer.adjust_for_ambient_noise(source)\n",
    "    \n",
    "    # Listen to the user's speech\n",
    "    audio = recognizer.listen(source,timeout=10)\n",
    "\n",
    "    print(\"Processing...\")\n",
    "\n",
    "try:\n",
    "    # Recognize speech in Kannada\n",
    "    language = \"kannada\"\n",
    "    if language==\"kannada\":\n",
    "        lang=\"kn-IN\"\n",
    "    elif language==\"hindi\":\n",
    "        lang=\"hi-IN\"\n",
    "    else:\n",
    "        lang=\"en\"\n",
    "    text = recognizer.recognize_google(audio, language=lang)\n",
    "\n",
    "    # Print the recognized text\n",
    "    print(\"you said:\", text)\n",
    "\n",
    "except sr.UnknownValueError:\n",
    "    print(\"Error occured\")\n",
    "\n",
    "except sr.RequestError as e:\n",
    "    print(f\"Error occured; {e}\")"
   ]
  },
  {
   "cell_type": "code",
   "execution_count": 11,
   "id": "a5fb0764",
   "metadata": {},
   "outputs": [
    {
     "name": "stdout",
     "output_type": "stream",
     "text": [
      "When does the train number 128 come\n"
     ]
    }
   ],
   "source": [
    "import googletrans\n",
    "from googletrans import Translator\n",
    "\n",
    "trans = Translator()\n",
    "\n",
    "if lang==\"kn-IN\":\n",
    "    lang=\"kn\"\n",
    "\n",
    "elif lang==\"hi-IN\":\n",
    "    lang=\"hi\"\n",
    "\n",
    "if lang==\"kn\":\n",
    "    target_lang = \"en\"\n",
    "    text = trans.translate(text, src=lang, dest=target_lang).text\n",
    "\n",
    "elif lang==\"hi\":\n",
    "    target_lang = \"en\"\n",
    "    text = trans.translate(text, src=lang, dest=target_lang).text\n",
    "\n",
    "print(text)"
   ]
  },
  {
   "cell_type": "code",
   "execution_count": 12,
   "id": "62fc47aa",
   "metadata": {},
   "outputs": [
    {
     "name": "stdout",
     "output_type": "stream",
     "text": [
      "Response :  The train number 128 comes at 01:12:00.\n"
     ]
    }
   ],
   "source": [
    "user_input=text\n",
    "if user_input=='exit':\n",
    "    print('Exiting')\n",
    "    sys.exit()\n",
    "result=qa({\"query\": user_input})\n",
    "print(\"Response : \", result[\"result\"])"
   ]
  },
  {
   "cell_type": "code",
   "execution_count": 13,
   "id": "64a30c3b",
   "metadata": {},
   "outputs": [
    {
     "name": "stdout",
     "output_type": "stream",
     "text": [
      "ರೈಲು ಸಂಖ್ಯೆ 128 01:12:00 ಕ್ಕೆ ಬರುತ್ತದೆ.\n"
     ]
    }
   ],
   "source": [
    "text = trans.translate(result[\"result\"], src=\"en\", dest=lang).text\n",
    "\n",
    "print(text)"
   ]
  },
  {
   "cell_type": "code",
   "execution_count": 14,
   "id": "709cd05b",
   "metadata": {},
   "outputs": [
    {
     "name": "stderr",
     "output_type": "stream",
     "text": [
      "C:\\Users\\navne\\AppData\\Roaming\\Python\\Python310\\site-packages\\pydub\\utils.py:170: RuntimeWarning: Couldn't find ffmpeg or avconv - defaulting to ffmpeg, but may not work\n",
      "  warn(\"Couldn't find ffmpeg or avconv - defaulting to ffmpeg, but may not work\", RuntimeWarning)\n",
      "C:\\Users\\navne\\AppData\\Roaming\\Python\\Python310\\site-packages\\pydub\\utils.py:198: RuntimeWarning: Couldn't find ffprobe or avprobe - defaulting to ffprobe, but may not work\n",
      "  warn(\"Couldn't find ffprobe or avprobe - defaulting to ffprobe, but may not work\", RuntimeWarning)\n"
     ]
    },
    {
     "ename": "FileNotFoundError",
     "evalue": "[WinError 2] The system cannot find the file specified",
     "output_type": "error",
     "traceback": [
      "\u001b[1;31m---------------------------------------------------------------------------\u001b[0m",
      "\u001b[1;31mFileNotFoundError\u001b[0m                         Traceback (most recent call last)",
      "\u001b[1;32mc:\\Users\\navne\\OneDrive\\Desktop\\Hackathon\\SIH 2023\\chatbot (1).ipynb Cell 28\u001b[0m line \u001b[0;36m1\n\u001b[0;32m     <a href='vscode-notebook-cell:/c%3A/Users/navne/OneDrive/Desktop/Hackathon/SIH%202023/chatbot%20%281%29.ipynb#X36sZmlsZQ%3D%3D?line=12'>13</a>\u001b[0m os\u001b[39m.\u001b[39msystem(\u001b[39m\"\u001b[39m\u001b[39mstart output.mp3\u001b[39m\u001b[39m\"\u001b[39m)  \u001b[39m# For Linux\u001b[39;00m\n\u001b[0;32m     <a href='vscode-notebook-cell:/c%3A/Users/navne/OneDrive/Desktop/Hackathon/SIH%202023/chatbot%20%281%29.ipynb#X36sZmlsZQ%3D%3D?line=13'>14</a>\u001b[0m \u001b[39m# os.system(\"start output.mp3\")  # For Windows\u001b[39;00m\n\u001b[1;32m---> <a href='vscode-notebook-cell:/c%3A/Users/navne/OneDrive/Desktop/Hackathon/SIH%202023/chatbot%20%281%29.ipynb#X36sZmlsZQ%3D%3D?line=15'>16</a>\u001b[0m audio \u001b[39m=\u001b[39m AudioSegment\u001b[39m.\u001b[39;49mfrom_mp3(\u001b[39m\"\u001b[39;49m\u001b[39moutput.mp3\u001b[39;49m\u001b[39m\"\u001b[39;49m)\n\u001b[0;32m     <a href='vscode-notebook-cell:/c%3A/Users/navne/OneDrive/Desktop/Hackathon/SIH%202023/chatbot%20%281%29.ipynb#X36sZmlsZQ%3D%3D?line=17'>18</a>\u001b[0m \u001b[39m# Play the audio\u001b[39;00m\n\u001b[0;32m     <a href='vscode-notebook-cell:/c%3A/Users/navne/OneDrive/Desktop/Hackathon/SIH%202023/chatbot%20%281%29.ipynb#X36sZmlsZQ%3D%3D?line=18'>19</a>\u001b[0m audio\u001b[39m.\u001b[39mplay()\n",
      "File \u001b[1;32m~\\AppData\\Roaming\\Python\\Python310\\site-packages\\pydub\\audio_segment.py:796\u001b[0m, in \u001b[0;36mAudioSegment.from_mp3\u001b[1;34m(cls, file, parameters)\u001b[0m\n\u001b[0;32m    794\u001b[0m \u001b[39m@classmethod\u001b[39m\n\u001b[0;32m    795\u001b[0m \u001b[39mdef\u001b[39;00m \u001b[39mfrom_mp3\u001b[39m(\u001b[39mcls\u001b[39m, file, parameters\u001b[39m=\u001b[39m\u001b[39mNone\u001b[39;00m):\n\u001b[1;32m--> 796\u001b[0m     \u001b[39mreturn\u001b[39;00m \u001b[39mcls\u001b[39;49m\u001b[39m.\u001b[39;49mfrom_file(file, \u001b[39m'\u001b[39;49m\u001b[39mmp3\u001b[39;49m\u001b[39m'\u001b[39;49m, parameters\u001b[39m=\u001b[39;49mparameters)\n",
      "File \u001b[1;32m~\\AppData\\Roaming\\Python\\Python310\\site-packages\\pydub\\audio_segment.py:728\u001b[0m, in \u001b[0;36mAudioSegment.from_file\u001b[1;34m(cls, file, format, codec, parameters, start_second, duration, **kwargs)\u001b[0m\n\u001b[0;32m    726\u001b[0m     info \u001b[39m=\u001b[39m \u001b[39mNone\u001b[39;00m\n\u001b[0;32m    727\u001b[0m \u001b[39melse\u001b[39;00m:\n\u001b[1;32m--> 728\u001b[0m     info \u001b[39m=\u001b[39m mediainfo_json(orig_file, read_ahead_limit\u001b[39m=\u001b[39;49mread_ahead_limit)\n\u001b[0;32m    729\u001b[0m \u001b[39mif\u001b[39;00m info:\n\u001b[0;32m    730\u001b[0m     audio_streams \u001b[39m=\u001b[39m [x \u001b[39mfor\u001b[39;00m x \u001b[39min\u001b[39;00m info[\u001b[39m'\u001b[39m\u001b[39mstreams\u001b[39m\u001b[39m'\u001b[39m]\n\u001b[0;32m    731\u001b[0m                      \u001b[39mif\u001b[39;00m x[\u001b[39m'\u001b[39m\u001b[39mcodec_type\u001b[39m\u001b[39m'\u001b[39m] \u001b[39m==\u001b[39m \u001b[39m'\u001b[39m\u001b[39maudio\u001b[39m\u001b[39m'\u001b[39m]\n",
      "File \u001b[1;32m~\\AppData\\Roaming\\Python\\Python310\\site-packages\\pydub\\utils.py:274\u001b[0m, in \u001b[0;36mmediainfo_json\u001b[1;34m(filepath, read_ahead_limit)\u001b[0m\n\u001b[0;32m    271\u001b[0m         file\u001b[39m.\u001b[39mclose()\n\u001b[0;32m    273\u001b[0m command \u001b[39m=\u001b[39m [prober, \u001b[39m'\u001b[39m\u001b[39m-of\u001b[39m\u001b[39m'\u001b[39m, \u001b[39m'\u001b[39m\u001b[39mjson\u001b[39m\u001b[39m'\u001b[39m] \u001b[39m+\u001b[39m command_args\n\u001b[1;32m--> 274\u001b[0m res \u001b[39m=\u001b[39m Popen(command, stdin\u001b[39m=\u001b[39;49mstdin_parameter, stdout\u001b[39m=\u001b[39;49mPIPE, stderr\u001b[39m=\u001b[39;49mPIPE)\n\u001b[0;32m    275\u001b[0m output, stderr \u001b[39m=\u001b[39m res\u001b[39m.\u001b[39mcommunicate(\u001b[39minput\u001b[39m\u001b[39m=\u001b[39mstdin_data)\n\u001b[0;32m    276\u001b[0m output \u001b[39m=\u001b[39m output\u001b[39m.\u001b[39mdecode(\u001b[39m\"\u001b[39m\u001b[39mutf-8\u001b[39m\u001b[39m\"\u001b[39m, \u001b[39m'\u001b[39m\u001b[39mignore\u001b[39m\u001b[39m'\u001b[39m)\n",
      "File \u001b[1;32mc:\\Program Files\\Python310\\lib\\subprocess.py:969\u001b[0m, in \u001b[0;36mPopen.__init__\u001b[1;34m(self, args, bufsize, executable, stdin, stdout, stderr, preexec_fn, close_fds, shell, cwd, env, universal_newlines, startupinfo, creationflags, restore_signals, start_new_session, pass_fds, user, group, extra_groups, encoding, errors, text, umask, pipesize)\u001b[0m\n\u001b[0;32m    965\u001b[0m         \u001b[39mif\u001b[39;00m \u001b[39mself\u001b[39m\u001b[39m.\u001b[39mtext_mode:\n\u001b[0;32m    966\u001b[0m             \u001b[39mself\u001b[39m\u001b[39m.\u001b[39mstderr \u001b[39m=\u001b[39m io\u001b[39m.\u001b[39mTextIOWrapper(\u001b[39mself\u001b[39m\u001b[39m.\u001b[39mstderr,\n\u001b[0;32m    967\u001b[0m                     encoding\u001b[39m=\u001b[39mencoding, errors\u001b[39m=\u001b[39merrors)\n\u001b[1;32m--> 969\u001b[0m     \u001b[39mself\u001b[39;49m\u001b[39m.\u001b[39;49m_execute_child(args, executable, preexec_fn, close_fds,\n\u001b[0;32m    970\u001b[0m                         pass_fds, cwd, env,\n\u001b[0;32m    971\u001b[0m                         startupinfo, creationflags, shell,\n\u001b[0;32m    972\u001b[0m                         p2cread, p2cwrite,\n\u001b[0;32m    973\u001b[0m                         c2pread, c2pwrite,\n\u001b[0;32m    974\u001b[0m                         errread, errwrite,\n\u001b[0;32m    975\u001b[0m                         restore_signals,\n\u001b[0;32m    976\u001b[0m                         gid, gids, uid, umask,\n\u001b[0;32m    977\u001b[0m                         start_new_session)\n\u001b[0;32m    978\u001b[0m \u001b[39mexcept\u001b[39;00m:\n\u001b[0;32m    979\u001b[0m     \u001b[39m# Cleanup if the child failed starting.\u001b[39;00m\n\u001b[0;32m    980\u001b[0m     \u001b[39mfor\u001b[39;00m f \u001b[39min\u001b[39;00m \u001b[39mfilter\u001b[39m(\u001b[39mNone\u001b[39;00m, (\u001b[39mself\u001b[39m\u001b[39m.\u001b[39mstdin, \u001b[39mself\u001b[39m\u001b[39m.\u001b[39mstdout, \u001b[39mself\u001b[39m\u001b[39m.\u001b[39mstderr)):\n",
      "File \u001b[1;32mc:\\Program Files\\Python310\\lib\\subprocess.py:1438\u001b[0m, in \u001b[0;36mPopen._execute_child\u001b[1;34m(self, args, executable, preexec_fn, close_fds, pass_fds, cwd, env, startupinfo, creationflags, shell, p2cread, p2cwrite, c2pread, c2pwrite, errread, errwrite, unused_restore_signals, unused_gid, unused_gids, unused_uid, unused_umask, unused_start_new_session)\u001b[0m\n\u001b[0;32m   1436\u001b[0m \u001b[39m# Start the process\u001b[39;00m\n\u001b[0;32m   1437\u001b[0m \u001b[39mtry\u001b[39;00m:\n\u001b[1;32m-> 1438\u001b[0m     hp, ht, pid, tid \u001b[39m=\u001b[39m _winapi\u001b[39m.\u001b[39;49mCreateProcess(executable, args,\n\u001b[0;32m   1439\u001b[0m                              \u001b[39m# no special security\u001b[39;49;00m\n\u001b[0;32m   1440\u001b[0m                              \u001b[39mNone\u001b[39;49;00m, \u001b[39mNone\u001b[39;49;00m,\n\u001b[0;32m   1441\u001b[0m                              \u001b[39mint\u001b[39;49m(\u001b[39mnot\u001b[39;49;00m close_fds),\n\u001b[0;32m   1442\u001b[0m                              creationflags,\n\u001b[0;32m   1443\u001b[0m                              env,\n\u001b[0;32m   1444\u001b[0m                              cwd,\n\u001b[0;32m   1445\u001b[0m                              startupinfo)\n\u001b[0;32m   1446\u001b[0m \u001b[39mfinally\u001b[39;00m:\n\u001b[0;32m   1447\u001b[0m     \u001b[39m# Child is launched. Close the parent's copy of those pipe\u001b[39;00m\n\u001b[0;32m   1448\u001b[0m     \u001b[39m# handles that only the child should have open.  You need\u001b[39;00m\n\u001b[1;32m   (...)\u001b[0m\n\u001b[0;32m   1451\u001b[0m     \u001b[39m# pipe will not close when the child process exits and the\u001b[39;00m\n\u001b[0;32m   1452\u001b[0m     \u001b[39m# ReadFile will hang.\u001b[39;00m\n\u001b[0;32m   1453\u001b[0m     \u001b[39mself\u001b[39m\u001b[39m.\u001b[39m_close_pipe_fds(p2cread, p2cwrite,\n\u001b[0;32m   1454\u001b[0m                          c2pread, c2pwrite,\n\u001b[0;32m   1455\u001b[0m                          errread, errwrite)\n",
      "\u001b[1;31mFileNotFoundError\u001b[0m: [WinError 2] The system cannot find the file specified"
     ]
    }
   ],
   "source": [
    "from gtts import gTTS\n",
    "import os\n",
    "from pydub import AudioSegment\n",
    "import platform\n",
    "\n",
    "# Create a gTTS object\n",
    "tts = gTTS(text, lang=lang, slow=False)\n",
    "\n",
    "# Save the audio file\n",
    "tts.save(\"output.mp3\")\n",
    "\n",
    "# Play the audio using a media player\n",
    "os.system(\"start output.mp3\")  # For Linux\n",
    "# os.system(\"start output.mp3\")  # For Windows\n",
    "\n",
    "audio = AudioSegment.from_mp3(\"output.mp3\")\n",
    "\n",
    "# Play the audio\n",
    "audio.play()"
   ]
  },
  {
   "cell_type": "code",
   "execution_count": null,
   "id": "74b18cc1",
   "metadata": {},
   "outputs": [],
   "source": []
  }
 ],
 "metadata": {
  "kernelspec": {
   "display_name": "Python 3 (ipykernel)",
   "language": "python",
   "name": "python3"
  },
  "language_info": {
   "codemirror_mode": {
    "name": "ipython",
    "version": 3
   },
   "file_extension": ".py",
   "mimetype": "text/x-python",
   "name": "python",
   "nbconvert_exporter": "python",
   "pygments_lexer": "ipython3",
   "version": "3.10.6"
  }
 },
 "nbformat": 4,
 "nbformat_minor": 5
}
